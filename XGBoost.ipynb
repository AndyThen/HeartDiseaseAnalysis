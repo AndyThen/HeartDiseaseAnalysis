{
 "cells": [
  {
   "cell_type": "code",
   "execution_count": 14,
   "metadata": {},
   "outputs": [],
   "source": [
    "import numpy as np\n",
    "import pandas as pd\n",
    "import matplotlib.pyplot as plt\n",
    "import seaborn as sns\n",
    "from sklearn.model_selection import train_test_split, cross_val_score\n",
    "from sklearn.preprocessing import StandardScaler\n",
    "from sklearn.metrics import classification_report, confusion_matrix, accuracy_score\n",
    "import xgboost as xgb\n",
    "\n",
    "data = pd.read_csv('heart.csv')"
   ]
  },
  {
   "cell_type": "code",
   "execution_count": 15,
   "metadata": {},
   "outputs": [],
   "source": [
    "# Separate features and target\n",
    "X = data.drop('target', axis=1)\n",
    "y = data['target']\n",
    "\n",
    "# Split the data\n",
    "X_train, X_test, y_train, y_test = train_test_split(X, y, test_size=0.2, random_state=42)"
   ]
  },
  {
   "cell_type": "code",
   "execution_count": 16,
   "metadata": {},
   "outputs": [],
   "source": [
    "# Scale the features\n",
    "scaler = StandardScaler()\n",
    "X_train_scaled = scaler.fit_transform(X_train)\n",
    "X_test_scaled = scaler.transform(X_test)\n",
    "\n",
    "# Create DMatrix for XGBoost\n",
    "dtrain = xgb.DMatrix(X_train_scaled, label=y_train)\n",
    "dtest = xgb.DMatrix(X_test_scaled, label=y_test)"
   ]
  },
  {
   "cell_type": "code",
   "execution_count": 17,
   "metadata": {},
   "outputs": [],
   "source": [
    "# XGBoost Parameters\n",
    "params = {\n",
    "    'max_depth': 6,\n",
    "    'eta': 0.1,\n",
    "    'objective': 'binary:logistic',\n",
    "    'eval_metric': 'logloss',\n",
    "    'seed': 42\n",
    "}\n",
    "\n",
    "# Model train\n",
    "num_rounds = 100\n",
    "model = xgb.train(params, dtrain, num_rounds)"
   ]
  },
  {
   "cell_type": "code",
   "execution_count": 18,
   "metadata": {},
   "outputs": [
    {
     "name": "stdout",
     "output_type": "stream",
     "text": [
      "Classification Report:\n",
      "              precision    recall  f1-score   support\n",
      "\n",
      "           0       0.97      1.00      0.99       102\n",
      "           1       1.00      0.97      0.99       103\n",
      "\n",
      "    accuracy                           0.99       205\n",
      "   macro avg       0.99      0.99      0.99       205\n",
      "weighted avg       0.99      0.99      0.99       205\n",
      "\n"
     ]
    }
   ],
   "source": [
    "#Predict\n",
    "y_pred_prob = model.predict(dtest)\n",
    "y_pred = (y_pred_prob > 0.5).astype(int)\n",
    "\n",
    "print(\"Classification Report:\")\n",
    "print(classification_report(y_test, y_pred))"
   ]
  },
  {
   "cell_type": "code",
   "execution_count": 6,
   "metadata": {},
   "outputs": [],
   "source": [
    "# Confusion Matrix Visualization\n",
    "plt.figure(figsize=(8, 6))\n",
    "cm = confusion_matrix(y_test, y_pred)\n",
    "sns.heatmap(cm, annot=True, fmt='d', cmap='Blues')\n",
    "plt.title('Confusion Matrix - XGBoost')\n",
    "plt.ylabel('True Label')\n",
    "plt.xlabel('Predicted Label')\n",
    "plt.tight_layout()\n",
    "plt.savefig('xgboost_confusion_matrix.png')\n",
    "plt.close()\n",
    "\n",
    "# Feature Importance\n",
    "# Get feature importance\n",
    "feature_importance = model.get_score(importance_type='weight')"
   ]
  },
  {
   "cell_type": "code",
   "execution_count": 7,
   "metadata": {},
   "outputs": [
    {
     "name": "stdout",
     "output_type": "stream",
     "text": [
      "\n",
      "Feature Importance:\n",
      "   feature  importance\n",
      "0       f0       356.0\n",
      "7       f7       267.0\n",
      "4       f4       250.0\n",
      "9       f9       205.0\n",
      "3       f3       177.0\n",
      "11     f11       165.0\n",
      "2       f2       105.0\n",
      "12     f12        89.0\n",
      "1       f1        88.0\n",
      "6       f6        84.0\n",
      "10     f10        74.0\n",
      "8       f8        51.0\n",
      "5       f5        19.0\n"
     ]
    }
   ],
   "source": [
    "# Convert to DataFrame\n",
    "feature_importance_df = pd.DataFrame.from_dict(feature_importance, orient='index', columns=['importance'])\n",
    "feature_importance_df.index.name = 'feature'\n",
    "feature_importance_df = feature_importance_df.reset_index()\n",
    "feature_importance_df = feature_importance_df.sort_values('importance', ascending=False)\n",
    "\n",
    "# Feature Importance graph\n",
    "plt.figure(figsize=(10, 6))\n",
    "plt.bar(feature_importance_df['feature'], feature_importance_df['importance'])\n",
    "plt.title('Feature Importance (XGBoost)')\n",
    "plt.xlabel('Features')\n",
    "plt.ylabel('Importance')\n",
    "plt.xticks(rotation=45, ha='right')\n",
    "plt.tight_layout()\n",
    "plt.savefig('xgboost_feature_importance.png')\n",
    "plt.close()\n",
    "\n",
    "# Feature Importance\n",
    "print(\"\\nFeature Importance:\")\n",
    "print(feature_importance_df)"
   ]
  },
  {
   "cell_type": "code",
   "execution_count": 8,
   "metadata": {},
   "outputs": [
    {
     "name": "stdout",
     "output_type": "stream",
     "text": [
      "\n",
      "Cross-Validation Scores: [1.         0.96341463 1.         0.98780488 0.95731707]\n",
      "Mean CV Score: 0.9817073170731707\n"
     ]
    }
   ],
   "source": [
    "# Cross-Validation\n",
    "cv_scores = cross_val_score(xgb.XGBClassifier(**params), X_train_scaled, y_train, cv=5)\n",
    "print(\"\\nCross-Validation Scores:\", cv_scores)\n",
    "print(\"Mean CV Score:\", cv_scores.mean())"
   ]
  },
  {
   "cell_type": "code",
   "execution_count": 12,
   "metadata": {},
   "outputs": [],
   "source": [
    "# Preventive Care Strategy Recommendations\n",
    "def generate_preventive_care_recommendations(importance_df):\n",
    "    # Select top 5 most important features\n",
    "    top_features = importance_df['feature'].head(5).tolist()\n",
    "    \n",
    "    recommendations_map = {\n",
    "        'thalach': \"Heart Rate Management: Maximum heart rate is crucial. Consider cardiovascular fitness assessments \"\n",
    "                   \"and developing personalized exercise programs to improve heart health.\",\n",
    "        \n",
    "        'ca': \"Cardiovascular Assessment: Number of major vessels is a key indicator. Recommend comprehensive \"\n",
    "              \"cardiovascular diagnostic procedures and targeted interventions.\",\n",
    "        \n",
    "        'oldpeak': \"Exercise-Induced Stress Monitoring: ST depression is important. Regular cardiac stress tests \"\n",
    "                   \"and careful monitoring of exercise-induced cardiac stress are advised.\",\n",
    "        \n",
    "        'trestbps': \"Blood Pressure Control: Focus on regular blood pressure monitoring, stress reduction techniques, \"\n",
    "                    \"and potential medical interventions to manage hypertension.\",\n",
    "        \n",
    "        'chol': \"Cholesterol Management: Implement dietary interventions, regular exercise, and potentially \"\n",
    "                \"medication to control cholesterol levels.\"\n",
    "    }\n",
    "    \n",
    "    recommendations = []\n",
    "    for feature in top_features:\n",
    "        if feature in recommendations_map:\n",
    "            recommendations.append(recommendations_map[feature])\n",
    "    \n",
    "    return recommendations\n",
    "\n"
   ]
  },
  {
   "cell_type": "code",
   "execution_count": 13,
   "metadata": {},
   "outputs": [
    {
     "name": "stdout",
     "output_type": "stream",
     "text": [
      "\n",
      "Preventive Care Recommendations:\n"
     ]
    }
   ],
   "source": [
    "# Generate and print preventive care recommendations\n",
    "preventive_care_recommendations = generate_preventive_care_recommendations(feature_importance_df)\n",
    "print(\"\\nPreventive Care Recommendations:\")\n",
    "for rec in preventive_care_recommendations:\n",
    "    print(f\"- {rec}\")"
   ]
  }
 ],
 "metadata": {
  "kernelspec": {
   "display_name": "HeartDisease",
   "language": "python",
   "name": "python3"
  },
  "language_info": {
   "codemirror_mode": {
    "name": "ipython",
    "version": 3
   },
   "file_extension": ".py",
   "mimetype": "text/x-python",
   "name": "python",
   "nbconvert_exporter": "python",
   "pygments_lexer": "ipython3",
   "version": "3.10.9"
  }
 },
 "nbformat": 4,
 "nbformat_minor": 2
}
