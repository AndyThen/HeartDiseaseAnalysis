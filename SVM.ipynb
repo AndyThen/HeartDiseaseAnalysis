{
 "cells": [
  {
   "cell_type": "code",
   "execution_count": 2,
   "metadata": {},
   "outputs": [],
   "source": [
    "import numpy as np\n",
    "import pandas as pd\n",
    "import matplotlib.pyplot as plt\n",
    "import seaborn as sns\n",
    "from sklearn.model_selection import train_test_split\n",
    "from sklearn.preprocessing import StandardScaler\n",
    "from sklearn.svm import SVC\n",
    "from sklearn.inspection import permutation_importance\n",
    "from sklearn.metrics import classification_report, confusion_matrix\n",
    "\n",
    "data = pd.read_csv('heart.csv')\n"
   ]
  },
  {
   "cell_type": "code",
   "execution_count": 3,
   "metadata": {},
   "outputs": [],
   "source": [
    " #  features and target\n",
    "X = data.drop('target', axis=1)\n",
    "y = data['target']\n",
    "\n",
    "# Split the data\n",
    "X_train, X_test, y_train, y_test = train_test_split(X, y, test_size=0.2, random_state=42)\n"
   ]
  },
  {
   "cell_type": "code",
   "execution_count": 4,
   "metadata": {},
   "outputs": [
    {
     "name": "stdout",
     "output_type": "stream",
     "text": [
      "Classification Report:\n",
      "              precision    recall  f1-score   support\n",
      "\n",
      "           0       0.93      0.83      0.88       102\n",
      "           1       0.85      0.94      0.89       103\n",
      "\n",
      "    accuracy                           0.89       205\n",
      "   macro avg       0.89      0.89      0.89       205\n",
      "weighted avg       0.89      0.89      0.89       205\n",
      "\n"
     ]
    }
   ],
   "source": [
    "# Scale the features\n",
    "scaler = StandardScaler()\n",
    "X_train_scaled = scaler.fit_transform(X_train)\n",
    "X_test_scaled = scaler.transform(X_test)\n",
    "\n",
    "# Train SVM with RBF kernel\n",
    "svm_model = SVC(kernel='rbf', probability=True, random_state=42)\n",
    "svm_model.fit(X_train_scaled, y_train)\n",
    "\n",
    "# Predictions and Evaluation\n",
    "y_pred = svm_model.predict(X_test_scaled)\n",
    "print(\"Classification Report:\")\n",
    "print(classification_report(y_test, y_pred))"
   ]
  },
  {
   "cell_type": "code",
   "execution_count": 5,
   "metadata": {},
   "outputs": [],
   "source": [
    "# Confusion Matrix Visualization\n",
    "plt.figure(figsize=(8, 6))\n",
    "cm = confusion_matrix(y_test, y_pred)\n",
    "sns.heatmap(cm, annot=True, fmt='d', cmap='Blues')\n",
    "plt.title('Confusion Matrix')\n",
    "plt.ylabel('True Label')\n",
    "plt.xlabel('Predicted Label')\n",
    "plt.tight_layout()\n",
    "plt.savefig('confusion_matrix.png')\n",
    "plt.close()"
   ]
  },
  {
   "cell_type": "code",
   "execution_count": 6,
   "metadata": {},
   "outputs": [],
   "source": [
    "# Importance Analysis\n",
    "perm_importance = permutation_importance(svm_model, X_test_scaled, y_test, n_repeats=10, random_state=42)\n",
    "\n",
    "# Create a DataFrame of feature importances\n",
    "feature_importance_df = pd.DataFrame({\n",
    "    'feature': X.columns,\n",
    "    'importance': perm_importance.importances_mean,\n",
    "    'std': perm_importance.importances_std\n",
    "})\n",
    "\n",
    "# Sort features by importance\n",
    "feature_importance_df = feature_importance_df.sort_values('importance', ascending=False)"
   ]
  },
  {
   "cell_type": "code",
   "execution_count": 7,
   "metadata": {},
   "outputs": [
    {
     "name": "stdout",
     "output_type": "stream",
     "text": [
      "\n",
      "Feature Importance:\n",
      "     feature  importance       std\n",
      "12      thal    0.053171  0.011839\n",
      "1        sex    0.046829  0.015610\n",
      "11        ca    0.044390  0.015799\n",
      "2         cp    0.042439  0.013279\n",
      "5        fbs    0.033659  0.006341\n",
      "6    restecg    0.023902  0.007697\n",
      "7    thalach    0.022439  0.014503\n",
      "0        age    0.014634  0.006899\n",
      "10     slope    0.014146  0.008001\n",
      "9    oldpeak    0.011220  0.014804\n",
      "3   trestbps    0.009756  0.011544\n",
      "8      exang    0.007317  0.004497\n",
      "4       chol    0.004390  0.011005\n"
     ]
    }
   ],
   "source": [
    "# Visualize Feature Importance with error handling\n",
    "plt.figure(figsize=(10, 6))\n",
    "plt.bar(feature_importance_df['feature'], feature_importance_df['importance'])\n",
    "plt.errorbar(range(len(feature_importance_df)), \n",
    "             feature_importance_df['importance'], \n",
    "             yerr=feature_importance_df['std'], \n",
    "             fmt='o', color='red', capsize=5)\n",
    "plt.title('Feature Importance (Permutation Importance)')\n",
    "plt.xlabel('Features')\n",
    "plt.ylabel('Mean Importance')\n",
    "plt.xticks(rotation=45, ha='right')\n",
    "plt.tight_layout()\n",
    "plt.savefig('feature_importance.png')\n",
    "plt.close()\n",
    "\n",
    "print(\"\\nFeature Importance:\")\n",
    "print(feature_importance_df)"
   ]
  },
  {
   "cell_type": "code",
   "execution_count": 8,
   "metadata": {},
   "outputs": [],
   "source": [
    "# Preventive Care Strategy Recommendations\n",
    "def generate_preventive_care_recommendations(importance_df):\n",
    "    recommendations = []\n",
    "    \n",
    "    # Top modifiable risk factors\n",
    "    modifiable_factors = ['chol', 'trestbps', 'thalach', 'oldpeak', 'ca']\n",
    "    \n",
    "    for factor in modifiable_factors:\n",
    "        row = importance_df[importance_df['feature'] == factor].iloc[0]\n",
    "        \n",
    "        recommendations_map = {\n",
    "            'chol': f\"Cholesterol Management: This is a critical factor with importance {row['importance']:.4f}. \"\n",
    "                    \"Consider dietary interventions, regular exercise, and potential medication.\",\n",
    "            \n",
    "            'trestbps': f\"Blood Pressure Control: With an importance of {row['importance']:.4f}, \"\n",
    "                        \"focus on regular blood pressure monitoring, stress reduction techniques, \"\n",
    "                        \"and potentially antihypertensive medications.\",\n",
    "            \n",
    "            'thalach': f\"Heart Rate Management: The maximum heart rate achieved (importance: {row['importance']:.4f}) \"\n",
    "                       \"suggests the need for cardiovascular fitness assessments and tailored exercise programs.\",\n",
    "            \n",
    "            'oldpeak': f\"ST Depression Monitoring: With importance {row['importance']:.4f}, \"\n",
    "                       \"recommend regular cardiac stress tests and close monitoring of exercise-induced cardiac stress.\",\n",
    "            \n",
    "            'ca': f\"Cardiovascular Assessment: The number of major vessels (importance: {row['importance']:.4f}) \"\n",
    "                  \"indicates the need for comprehensive cardiovascular diagnostic procedures.\"\n",
    "        }\n",
    "        \n",
    "        recommendations.append(recommendations_map[factor])\n",
    "    \n",
    "    return recommendations"
   ]
  },
  {
   "cell_type": "code",
   "execution_count": 9,
   "metadata": {},
   "outputs": [
    {
     "name": "stdout",
     "output_type": "stream",
     "text": [
      "\n",
      "Preventive Care Recommendations:\n",
      "- Cholesterol Management: This is a critical factor with importance 0.0044. Consider dietary interventions, regular exercise, and potential medication.\n",
      "- Blood Pressure Control: With an importance of 0.0098, focus on regular blood pressure monitoring, stress reduction techniques, and potentially antihypertensive medications.\n",
      "- Heart Rate Management: The maximum heart rate achieved (importance: 0.0224) suggests the need for cardiovascular fitness assessments and tailored exercise programs.\n",
      "- ST Depression Monitoring: With importance 0.0112, recommend regular cardiac stress tests and close monitoring of exercise-induced cardiac stress.\n",
      "- Cardiovascular Assessment: The number of major vessels (importance: 0.0444) indicates the need for comprehensive cardiovascular diagnostic procedures.\n"
     ]
    }
   ],
   "source": [
    "# Preventive care recommendations\n",
    "preventive_care_recommendations = generate_preventive_care_recommendations(feature_importance_df)\n",
    "print(\"\\nPreventive Care Recommendations:\")\n",
    "for rec in preventive_care_recommendations:\n",
    "    print(f\"- {rec}\")"
   ]
  }
 ],
 "metadata": {
  "kernelspec": {
   "display_name": "HeartDisease",
   "language": "python",
   "name": "python3"
  },
  "language_info": {
   "codemirror_mode": {
    "name": "ipython",
    "version": 3
   },
   "file_extension": ".py",
   "mimetype": "text/x-python",
   "name": "python",
   "nbconvert_exporter": "python",
   "pygments_lexer": "ipython3",
   "version": "3.10.9"
  }
 },
 "nbformat": 4,
 "nbformat_minor": 2
}
